{
 "cells": [
  {
   "cell_type": "code",
   "execution_count": 1,
   "id": "8babe05a-40e8-4893-82ff-799c95e903cc",
   "metadata": {},
   "outputs": [
    {
     "name": "stdout",
     "output_type": "stream",
     "text": [
      "Integer Value: 42 - Type: <class 'int'>\n",
      "Float Value: 3.14 - Type: <class 'float'>\n",
      "String Value: Hello, World! - Type: <class 'str'>\n",
      "Boolean Value: True - Type: <class 'bool'>\n"
     ]
    }
   ],
   "source": [
    "\n",
    "integer_var = 42               \n",
    "float_var = 3.14               \n",
    "string_var = \"Hello, World!\"   \n",
    "boolean_var = True             \n",
    "\n",
    "# Print each variable and its type\n",
    "print(\"Integer Value:\", integer_var, \"- Type:\", type(integer_var))\n",
    "print(\"Float Value:\", float_var, \"- Type:\", type(float_var))\n",
    "print(\"String Value:\", string_var, \"- Type:\", type(string_var))\n",
    "print(\"Boolean Value:\", boolean_var, \"- Type:\", type(boolean_var))\n"
   ]
  },
  {
   "cell_type": "code",
   "execution_count": 3,
   "id": "fdf4c7d9-5766-4be1-80c3-65677027e356",
   "metadata": {},
   "outputs": [
    {
     "name": "stdout",
     "output_type": "stream",
     "text": [
      "List: [10, 20, 30, 40, 50]\n",
      "Access element at index 1: 20\n",
      "Access last element using negative index: 50\n",
      "Access a slice (index 1 to 3): [20, 30, 40]\n",
      "\n",
      "\n",
      "Tuple: ('apple', 'banana', 'cherry', 'date', 'elderberry')\n",
      "Access element at index 0: apple\n",
      "Access element at index 3: date\n",
      "Access a slice (index 1 to 3): ('banana', 'cherry', 'date')\n",
      "\n",
      "\n",
      "Dictionary: {'name': 'Alice', 'age': 25, 'city': 'Paris', 'country': 'France', 'hobby': 'painting'}\n",
      "Access value for key 'name': Alice\n",
      "Access value for key 'city': Paris\n",
      "Keys in the dictionary: ['name', 'age', 'city', 'country', 'hobby']\n",
      "Values in the dictionary: ['Alice', 25, 'Paris', 'France', 'painting']\n"
     ]
    }
   ],
   "source": [
    "my_list = [10, 20, 30, 40, 50]\n",
    "print(\"List:\", my_list)\n",
    "print(\"Access element at index 1:\", my_list[1])  \n",
    "print(\"Access last element using negative index:\", my_list[-1])  \n",
    "print(\"Access a slice (index 1 to 3):\", my_list[1:4]) \n",
    "\n",
    "print(\"\\n\")\n",
    "\n",
    "\n",
    "my_tuple = (\"apple\", \"banana\", \"cherry\", \"date\", \"elderberry\")\n",
    "print(\"Tuple:\", my_tuple)\n",
    "print(\"Access element at index 0:\", my_tuple[0])  \n",
    "print(\"Access element at index 3:\", my_tuple[3])  \n",
    "print(\"Access a slice (index 1 to 3):\", my_tuple[1:4])  \n",
    "\n",
    "print(\"\\n\")\n",
    "\n",
    "my_dict = {\"name\": \"Alice\", \"age\": 25, \"city\": \"Paris\", \"country\": \"France\", \"hobby\": \"painting\"}\n",
    "print(\"Dictionary:\", my_dict)\n",
    "print(\"Access value for key 'name':\", my_dict[\"name\"])\n",
    "print(\"Access value for key 'city':\", my_dict[\"city\"])\n",
    "print(\"Keys in the dictionary:\", list(my_dict.keys()))\n",
    "print(\"Values in the dictionary:\", list(my_dict.values()))\n"
   ]
  },
  {
   "cell_type": "code",
   "execution_count": 5,
   "id": "6c9eb692-2dfc-4d39-be1a-c2a8d13f4e24",
   "metadata": {},
   "outputs": [
    {
     "name": "stdin",
     "output_type": "stream",
     "text": [
      "Enter marks for Subject 1:  70\n",
      "Enter marks for Subject 2:  60\n",
      "Enter marks for Subject 3:  87\n"
     ]
    },
    {
     "name": "stdout",
     "output_type": "stream",
     "text": [
      "Grade: C\n"
     ]
    }
   ],
   "source": [
    "subject1 = float(input(\"Enter marks for Subject 1: \"))\n",
    "subject2 = float(input(\"Enter marks for Subject 2: \"))\n",
    "subject3 = float(input(\"Enter marks for Subject 3: \"))\n",
    "\n",
    "\n",
    "average = (subject1 + subject2 + subject3) / 3\n",
    "\n",
    "\n",
    "if average >= 90:\n",
    "    print(\"Grade: A\")\n",
    "elif 80 <= average < 90:\n",
    "    print(\"Grade: B\")\n",
    "elif 70 <= average < 80:\n",
    "    print(\"Grade: C\")\n",
    "else:\n",
    "    print(\"Grade: Fail\")\n"
   ]
  },
  {
   "cell_type": "code",
   "execution_count": null,
   "id": "2e1d6eb9-f160-440b-9ebf-ec2f8e461741",
   "metadata": {},
   "outputs": [],
   "source": []
  }
 ],
 "metadata": {
  "kernelspec": {
   "display_name": "Python [conda env:base] *",
   "language": "python",
   "name": "conda-base-py"
  },
  "language_info": {
   "codemirror_mode": {
    "name": "ipython",
    "version": 3
   },
   "file_extension": ".py",
   "mimetype": "text/x-python",
   "name": "python",
   "nbconvert_exporter": "python",
   "pygments_lexer": "ipython3",
   "version": "3.12.7"
  }
 },
 "nbformat": 4,
 "nbformat_minor": 5
}
